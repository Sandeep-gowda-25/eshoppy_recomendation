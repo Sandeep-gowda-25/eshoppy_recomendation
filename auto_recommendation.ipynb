{
 "cells": [
  {
   "cell_type": "code",
   "execution_count": 1,
   "id": "12a73eba-d6e8-432c-b591-8afba0a267ba",
   "metadata": {},
   "outputs": [],
   "source": [
    "from database_management import create_local_db,create_tables,upload_existing_data"
   ]
  },
  {
   "cell_type": "code",
   "execution_count": 2,
   "id": "60f510be-1b0f-4d1d-963f-2ecb4c01f60a",
   "metadata": {},
   "outputs": [],
   "source": [
    "import sqlite3\n",
    "import pandas as pd"
   ]
  },
  {
   "cell_type": "code",
   "execution_count": 3,
   "id": "b8430727-74c3-497b-a218-b93e745b17bc",
   "metadata": {},
   "outputs": [],
   "source": [
    "# !pip install -q transformers openai"
   ]
  },
  {
   "cell_type": "code",
   "execution_count": 4,
   "id": "750ddf16-ce4d-4ee1-aa7e-bd51feb631c4",
   "metadata": {},
   "outputs": [
    {
     "name": "stdout",
     "output_type": "stream",
     "text": [
      "db file created\n"
     ]
    }
   ],
   "source": [
    "# to create local db for first time\n",
    "create_local_db()"
   ]
  },
  {
   "cell_type": "code",
   "execution_count": 5,
   "id": "61924dd6-4fde-4f03-9ddc-81756392df6f",
   "metadata": {},
   "outputs": [
    {
     "name": "stdout",
     "output_type": "stream",
     "text": [
      "Tables created sucessfully\n"
     ]
    }
   ],
   "source": [
    "'''to create tables - users, orders,categories\n",
    "it deletes and recreates, if already exisiting'''\n",
    "create_tables()"
   ]
  },
  {
   "cell_type": "code",
   "execution_count": 6,
   "id": "4b799074-8730-408e-ba69-f823fea8dd3e",
   "metadata": {},
   "outputs": [
    {
     "name": "stdout",
     "output_type": "stream",
     "text": [
      "Data upload to tables completed successfuly\n"
     ]
    }
   ],
   "source": [
    "'''\n",
    "I ve create some sample data on list of users, some already existing order details and a table of categories to which user can be categorised into\n",
    "'''\n",
    "upload_existing_data()"
   ]
  },
  {
   "cell_type": "code",
   "execution_count": 7,
   "id": "9007fdfd-faf8-4729-a345-d5f11e7bb8db",
   "metadata": {},
   "outputs": [],
   "source": [
    "conn = sqlite3.connect(\"shopping.db\")\n",
    "cursor = conn.cursor()"
   ]
  },
  {
   "cell_type": "code",
   "execution_count": 8,
   "id": "a7fff6c4-4dcd-45fe-bb85-3d9ce8f152a0",
   "metadata": {},
   "outputs": [],
   "source": [
    "cursor.execute(\"select user_name from users\")\n",
    "users_list = cursor.fetchall()"
   ]
  },
  {
   "cell_type": "code",
   "execution_count": 9,
   "id": "20f01e8c-c3eb-4a73-9ee7-d77c11895912",
   "metadata": {},
   "outputs": [
    {
     "data": {
      "text/plain": [
       "['Christy Zhu',\n",
       " 'Julio Ruiz',\n",
       " 'Curtis Lu',\n",
       " 'Ruben Prasad',\n",
       " 'Albert Alvarez',\n",
       " 'Cole Watson',\n",
       " 'Sydney Wright',\n",
       " 'Colin Anand',\n",
       " 'Rachael Martinez',\n",
       " 'Emma Brown',\n",
       " 'Courtney Edwards',\n",
       " 'Edward Brown',\n",
       " 'Brad Deng',\n",
       " 'Martha Xu',\n",
       " 'Katrina Raji',\n",
       " 'Abigail Henderson',\n",
       " 'Melanie Sanchez',\n",
       " 'Louis Xie']"
      ]
     },
     "execution_count": 9,
     "metadata": {},
     "output_type": "execute_result"
    }
   ],
   "source": [
    "users_list = list(map(lambda x: x[0], users_list))\n",
    "users_list"
   ]
  },
  {
   "cell_type": "code",
   "execution_count": 10,
   "id": "a4ac3e24-b903-40ad-9967-e76f8f339edc",
   "metadata": {},
   "outputs": [
    {
     "data": {
      "text/plain": [
       "[('books, pens, bags',),\n",
       " ('bags, shoes, mobiles, cloths, bikes, accessories',),\n",
       " ('bags, shoes, mobiles',),\n",
       " ('mobiles, cloths, accessories, electronics, makeups, shoes',),\n",
       " ('mobiles, cloths, accessories, shoes, bags, bikes',),\n",
       " ('mobiles, cloths, accessories, electronics, bikes, shoes',),\n",
       " ('mobiles, cloths, accessories, electronics, bikes, shoes, bags, books',),\n",
       " ('accessories, electronics, utencils, mobiles, cloths',),\n",
       " ('accessories, electronics, utencils, cloths, bags, books',)]"
      ]
     },
     "execution_count": 10,
     "metadata": {},
     "output_type": "execute_result"
    }
   ],
   "source": [
    "items_query = \"select items from categories where items is not null\"\n",
    "cursor.execute(items_query)\n",
    "all_items = cursor.fetchall()\n",
    "all_items"
   ]
  },
  {
   "cell_type": "code",
   "execution_count": 11,
   "id": "8089de5e-af9a-4754-ba96-adfbf7da70d1",
   "metadata": {},
   "outputs": [],
   "source": [
    "all_items = list(map(lambda x:x[0].split(', '), all_items))\n",
    "# all_items"
   ]
  },
  {
   "cell_type": "code",
   "execution_count": 12,
   "id": "2184f070-bf05-4558-a449-7e1aeee08aa7",
   "metadata": {},
   "outputs": [
    {
     "data": {
      "text/plain": [
       "['cloths',\n",
       " 'books',\n",
       " 'shoes',\n",
       " 'utencils',\n",
       " 'bags',\n",
       " 'bikes',\n",
       " 'accessories',\n",
       " 'electronics',\n",
       " 'mobiles',\n",
       " 'makeups',\n",
       " 'pens']"
      ]
     },
     "execution_count": 12,
     "metadata": {},
     "output_type": "execute_result"
    }
   ],
   "source": [
    "all_items = list({item for lst in all_items for item in lst})\n",
    "all_items"
   ]
  },
  {
   "cell_type": "code",
   "execution_count": 13,
   "id": "bf6625a4-85eb-4b74-93cd-3bf21309e425",
   "metadata": {},
   "outputs": [],
   "source": [
    "# !pip install -q together\n",
    "import os\n",
    "from dotenv import load_dotenv\n",
    "load_dotenv('.env')\n",
    "openai_endpoint = os.getenv(\"OPENAI_ENDPOINT\")\n",
    "openai_apikey = os.getenv(\"OPENAI_APIKEY\")\n",
    "deployment_name = os.getenv(\"DEPLOYMENT_NAME\")"
   ]
  },
  {
   "cell_type": "code",
   "execution_count": 14,
   "id": "a5581f2e-c2ab-4539-8192-640ac9fc162f",
   "metadata": {},
   "outputs": [],
   "source": [
    "from openai import AzureOpenAI\n",
    "client = AzureOpenAI(api_key = openai_apikey, azure_endpoint = openai_endpoint,api_version = \"2024-05-01-preview\")"
   ]
  },
  {
   "cell_type": "code",
   "execution_count": 15,
   "id": "c7b2c3b8-32f2-44ca-8ac0-40b533be8a72",
   "metadata": {},
   "outputs": [
    {
     "data": {
      "text/plain": [
       "'Hello! How can I assist you today?'"
      ]
     },
     "execution_count": 15,
     "metadata": {},
     "output_type": "execute_result"
    }
   ],
   "source": [
    "response = client.chat.completions.create(model = deployment_name,\n",
    "                               messages=[{\"role\":\"user\",\"content\":\"Hi\"}]\n",
    "                              )\n",
    "response.choices[0].message.content"
   ]
  },
  {
   "cell_type": "code",
   "execution_count": 16,
   "id": "357781c6-b8dc-4fe2-a499-c277c326a6f0",
   "metadata": {},
   "outputs": [],
   "source": [
    "cursor.execute(\"select category_name,category_id from categories\")\n",
    "out = cursor.fetchall()"
   ]
  },
  {
   "cell_type": "code",
   "execution_count": 17,
   "id": "c2db8c57-1ce3-4578-802e-6bf7e047452c",
   "metadata": {},
   "outputs": [
    {
     "data": {
      "text/plain": [
       "{'student_low_buget': 1,\n",
       " 'student_high_buget': 2,\n",
       " 'student_avg_buget': 3,\n",
       " 'female_earner': 4,\n",
       " 'femaler_explorer': 5,\n",
       " 'male_earner': 6,\n",
       " 'male_explorer': 7,\n",
       " 'familian_high_spender': 8,\n",
       " 'familian_low_spender': 9,\n",
       " 'mixed_category': 10}"
      ]
     },
     "execution_count": 17,
     "metadata": {},
     "output_type": "execute_result"
    }
   ],
   "source": [
    "catg_details = {key:value for key,value in out}\n",
    "catg_details"
   ]
  },
  {
   "cell_type": "code",
   "execution_count": 18,
   "id": "054df8bc-28dd-4ef4-879d-c0b0b7cc1214",
   "metadata": {},
   "outputs": [],
   "source": [
    "def add_new_user(user_name:str,user_mail:str):\n",
    "    query = \"\"\"Insert into users (user_name,user_mail) \n",
    "    values (?,?)\"\"\"\n",
    "    cursor.execute(query,(user_name,user_mail))\n",
    "    conn.commit()\n",
    "    print(\"user name added to db\")\n",
    "    cursor.execute(\"select user_name from users\")\n",
    "    users_list = cursor.fetchall()\n",
    "    users_list = list(map(lambda x: x[0], users_list))"
   ]
  },
  {
   "cell_type": "code",
   "execution_count": 19,
   "id": "20ddbc71-9637-413a-934f-872d27108f01",
   "metadata": {},
   "outputs": [],
   "source": [
    "def recategorize_user(user_name:str,category:str):\n",
    "    query = \"\"\"update users\n",
    "    set category_id =?\n",
    "    where user_name = ?\"\"\"\n",
    "    category_id = catg_details.get(category)\n",
    "    cursor.execute(query,(category_id,user_name))\n",
    "    conn.commit()\n",
    "    # print(\"category id updated successfuly\")"
   ]
  },
  {
   "cell_type": "code",
   "execution_count": 20,
   "id": "97f1880c-02da-48bf-a220-2439534e6809",
   "metadata": {},
   "outputs": [],
   "source": [
    "cursor.execute(\"select category_name,spend_capacity,items from categories\")\n",
    "category_details = cursor.fetchall()"
   ]
  },
  {
   "cell_type": "code",
   "execution_count": 21,
   "id": "4926a87d-dfcc-4ec1-8ce6-53ebac7cdfe8",
   "metadata": {},
   "outputs": [],
   "source": [
    "def get_user_shoppig_details(user_name:str):\n",
    "    query = \"\"\"select o.order_name,o.order_value,c.category_name from orders o\n",
    "    join users u on u.user_id=o.user_id\n",
    "    join categories c on c.category_id=u.category_id\n",
    "    where u.user_name=?\"\"\"\n",
    "    cursor.execute(query,(user_name,))\n",
    "    out = cursor.fetchall()\n",
    "    return out"
   ]
  },
  {
   "cell_type": "code",
   "execution_count": 22,
   "id": "7d564876-01c4-43ad-a60f-c108d4e7c01b",
   "metadata": {},
   "outputs": [],
   "source": [
    "def add_to_shoppping_history(user_name:str,item:str,cost:int):\n",
    "    query = \"\"\"insert into orders (user_id,order_name,order_value)\n",
    "    select user_id,?,? from users \n",
    "    where users.user_name==?\"\"\"\n",
    "    cursor.evaluate(query,(item,cost,user_name))\n",
    "    conn.commit()"
   ]
  },
  {
   "cell_type": "code",
   "execution_count": 23,
   "id": "702f1cf2-82e2-458c-a1e2-d972fcee3c37",
   "metadata": {},
   "outputs": [],
   "source": [
    "def auto_recommend_next_item(user_name,next_item,cost):\n",
    "    historic_data = get_user_shoppig_details(user_name)\n",
    "    system_prompt = f\"\"\"You're a recomendation agent for user in a shopping app. \n",
    "    Currently few users are categorized into multiple categories based on thier historic shopping activites on type of items they had purchased along with their purchasing capacities.\n",
    "    \n",
    "    Now you have to recategorize the user based on thier next purchase activites and then recommend them with next item they would be intrested in buying.\"\"\"\n",
    "    user_input=f\"\"\"\n",
    "    CATEGORY DETAILS : {category_details}\n",
    "    \n",
    "    USER HISTORIC DATA: {historic_data}\n",
    "    \n",
    "    NEW ITEM: {next_item}\n",
    "    COST: {cost}\n",
    "    \"\"\"\n",
    "    output_format=\"\"\"{\n",
    "    \"NEXT_RECOMENDATION\":<>\n",
    "    \"CATEGORY\":<>\n",
    "    }\"\"\"\n",
    "    user_instructions=\"Make sure to return output without additional explainations, next recomendation should be just the item/s, category should be one among the exisitng list\"\n",
    "    response = client.chat.completions.create(model = deployment_name,\n",
    "                               messages=[{\"role\":\"system\",\"content\":system_prompt},\n",
    "                                        {\"role\":\"user\",\"content\":user_input},\n",
    "                                        {\"role\":\"user\",\"content\":user_instructions},\n",
    "                                        {\"role\":\"user\",\"content\":output_format}]\n",
    "                              )\n",
    "    out = response.choices[0].message.content\n",
    "    import json\n",
    "    out = json.loads(out)\n",
    "    recategorize_user(user_name,out[\"CATEGORY\"])\n",
    "    return out"
   ]
  },
  {
   "cell_type": "code",
   "execution_count": 24,
   "id": "40b5f450-dc1d-4e6b-84e4-41fc69c84c86",
   "metadata": {},
   "outputs": [],
   "source": [
    "from pydantic import BaseModel\n",
    "class recomendation(BaseModel):\n",
    "    NEXT_RECOMENDATION:str\n",
    "    CATEGORY:str"
   ]
  },
  {
   "cell_type": "code",
   "execution_count": 25,
   "id": "4281a3aa-8c9a-451f-a302-45e7e46f69e4",
   "metadata": {},
   "outputs": [],
   "source": [
    "def start_shopping():\n",
    "    print(\"Welcome, have a good shopping today :)\")\n",
    "    user_name = input(\"Please identify your self with your name\")\n",
    "    if user_name not in users_list:\n",
    "        print(\"We see new to join, please sign up below.\")\n",
    "        mail = input(\"Please provide your mail-id\")\n",
    "        add_new_user(user_name,mail)\n",
    "    print(\"you're set to shop now\")\n",
    "    is_proceed=\"yes\"\n",
    "    while is_proceed==\"yes\":\n",
    "        new_item = input('Please provide item you wish to buy  ')  \n",
    "        cost = input('Please provide cost here') \n",
    "        recomendations = auto_recommend_next_item(user_name,new_item,cost)           \n",
    "        print(f\"We have a new recommendation to you, intrested in buying more of this??? \\n*********{recomendations[\"NEXT_RECOMENDATION\"]}********* \")\n",
    "        is_proceed = input(\"Wish to continue shopping? yes/no\")\n",
    "        "
   ]
  },
  {
   "cell_type": "code",
   "execution_count": 26,
   "id": "043741d3-f52b-41eb-b2c6-2cf44043cb71",
   "metadata": {},
   "outputs": [
    {
     "name": "stdout",
     "output_type": "stream",
     "text": [
      "Welcome, have a good shopping today :)\n"
     ]
    },
    {
     "name": "stdin",
     "output_type": "stream",
     "text": [
      "Please identify your self with your name Raju\n"
     ]
    },
    {
     "name": "stdout",
     "output_type": "stream",
     "text": [
      "We see new to join, please sign up below.\n"
     ]
    },
    {
     "name": "stdin",
     "output_type": "stream",
     "text": [
      "Please provide your mail-id raju@mail.com\n"
     ]
    },
    {
     "name": "stdout",
     "output_type": "stream",
     "text": [
      "user name added to db\n",
      "you're set to shop now\n"
     ]
    },
    {
     "name": "stdin",
     "output_type": "stream",
     "text": [
      "Please provide item you wish to buy   mobiles\n",
      "Please provide cost here 5000\n"
     ]
    },
    {
     "name": "stdout",
     "output_type": "stream",
     "text": [
      "We have a new recommendation to you, intrested in buying more of this??? \n",
      "*********cloths********* \n"
     ]
    },
    {
     "name": "stdin",
     "output_type": "stream",
     "text": [
      "Wish to continue shopping? yes/no yes\n",
      "Please provide item you wish to buy   cloths\n",
      "Please provide cost here 2000\n"
     ]
    },
    {
     "name": "stdout",
     "output_type": "stream",
     "text": [
      "We have a new recommendation to you, intrested in buying more of this??? \n",
      "*********mobiles********* \n"
     ]
    },
    {
     "name": "stdin",
     "output_type": "stream",
     "text": [
      "Wish to continue shopping? yes/no yes\n",
      "Please provide item you wish to buy   mobiles\n",
      "Please provide cost here 1000\n"
     ]
    },
    {
     "name": "stdout",
     "output_type": "stream",
     "text": [
      "We have a new recommendation to you, intrested in buying more of this??? \n",
      "*********cloths, accessories********* \n"
     ]
    },
    {
     "name": "stdin",
     "output_type": "stream",
     "text": [
      "Wish to continue shopping? yes/no yes\n",
      "Please provide item you wish to buy   accessories\n",
      "Please provide cost here 500\n"
     ]
    },
    {
     "name": "stdout",
     "output_type": "stream",
     "text": [
      "We have a new recommendation to you, intrested in buying more of this??? \n",
      "*********mobiles********* \n"
     ]
    },
    {
     "name": "stdin",
     "output_type": "stream",
     "text": [
      "Wish to continue shopping? yes/no no\n"
     ]
    }
   ],
   "source": [
    "start_shopping()"
   ]
  },
  {
   "cell_type": "code",
   "execution_count": null,
   "id": "8b0a7d98-6072-42c1-8de1-8f8860f571f9",
   "metadata": {},
   "outputs": [],
   "source": []
  },
  {
   "cell_type": "code",
   "execution_count": null,
   "id": "6592106e-7caf-4295-86f5-07237360fdb5",
   "metadata": {},
   "outputs": [],
   "source": []
  },
  {
   "cell_type": "code",
   "execution_count": null,
   "id": "f28a48fe-4cdb-4d1d-bfca-1d3a2959868d",
   "metadata": {},
   "outputs": [],
   "source": []
  }
 ],
 "metadata": {
  "kernelspec": {
   "display_name": "Python 3 (ipykernel)",
   "language": "python",
   "name": "python3"
  },
  "language_info": {
   "codemirror_mode": {
    "name": "ipython",
    "version": 3
   },
   "file_extension": ".py",
   "mimetype": "text/x-python",
   "name": "python",
   "nbconvert_exporter": "python",
   "pygments_lexer": "ipython3",
   "version": "3.12.0"
  }
 },
 "nbformat": 4,
 "nbformat_minor": 5
}
